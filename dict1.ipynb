{
 "cells": [
  {
   "cell_type": "markdown",
   "metadata": {},
   "source": [
    "# Dict\n",
    "\n",
    "- `dict` is a data type for a \"dictionary\".\n",
    "\n",
    "- Other languages have similar data types, such as *hash table*.\n",
    "\n",
    "- A `dict` is used for storing pieces of data away, based on a *key*.\n",
    "\n",
    "- A *key* can be most any *immutable* datatype. The most common type for a key is *string*, but it can be a number, or even a *tuple*.\n",
    "\n",
    "- In a `dict`, each key is *unique*. That is, there can be only one entry for a given key inside a given `dict`.\n",
    "\n",
    "- Each key has associated with it a *value*. \n",
    "\n",
    "- To store a value away, you supply the key and value.\n",
    "\n",
    "- To access a value, you usually supply the key for the value you are interested in.\n",
    "\n",
    "- Thus, a `dict` is comprised of pairs of *key* and *value*.\n",
    "\n",
    "- In general, the data in a `dict` is *unordered* in that you cannot depend on the order, (like you can do with `list`). Your basic means of access is by `key`, and not order.\n",
    "\n",
    "- A *value*, unlike a *key*,  can be *any* Python object. That means it can be a number, a string, a list, a function, another `dict`, or anything.\n",
    "\n",
    "Thus, you can look at a dict as a way to store away all sorts of Python objects, each accessible by a unique key."
   ]
  },
  {
   "cell_type": "code",
   "execution_count": 3,
   "metadata": {},
   "outputs": [],
   "source": [
    "d1 = {\n",
    "    'name' : 'Bowser',\n",
    "    'age' : 4,\n",
    "    'weight' : 29,\n",
    "    'favorite_food' : 'rabbit',\n",
    "    'good_at' : ['sleeping', 'eating', 'barking']\n",
    "}"
   ]
  },
  {
   "cell_type": "code",
   "execution_count": 4,
   "metadata": {},
   "outputs": [
    {
     "data": {
      "text/plain": [
       "{'name': 'Bowser', 'age': 4, 'weight': 29, 'favorite_food': 'rabbit'}"
      ]
     },
     "execution_count": 4,
     "metadata": {},
     "output_type": "execute_result"
    }
   ],
   "source": [
    "d1"
   ]
  },
  {
   "cell_type": "code",
   "execution_count": 5,
   "metadata": {},
   "outputs": [
    {
     "data": {
      "text/plain": [
       "dict"
      ]
     },
     "execution_count": 5,
     "metadata": {},
     "output_type": "execute_result"
    }
   ],
   "source": [
    "type(d1)"
   ]
  },
  {
   "cell_type": "code",
   "execution_count": 6,
   "metadata": {},
   "outputs": [
    {
     "data": {
      "text/plain": [
       "4"
      ]
     },
     "execution_count": 6,
     "metadata": {},
     "output_type": "execute_result"
    }
   ],
   "source": [
    "len(d1)"
   ]
  },
  {
   "cell_type": "code",
   "execution_count": 9,
   "metadata": {},
   "outputs": [],
   "source": [
    "d2 = {\n",
    "    'name' : 'Layla',\n",
    "    'age' : 3,\n",
    "    'weight': 7,\n",
    "    'favorite_food' : 'bird',\n",
    "    'likes' : ['hunt', 'toys']\n",
    "}"
   ]
  },
  {
   "cell_type": "code",
   "execution_count": 10,
   "metadata": {},
   "outputs": [
    {
     "data": {
      "text/plain": [
       "{'name': 'Layla',\n",
       " 'age': 3,\n",
       " 'weight': 7,\n",
       " 'favorite_food': 'bird',\n",
       " 'likes': ['hunt', 'toys']}"
      ]
     },
     "execution_count": 10,
     "metadata": {},
     "output_type": "execute_result"
    }
   ],
   "source": [
    "d2"
   ]
  },
  {
   "cell_type": "markdown",
   "metadata": {},
   "source": [
    "## Some topics\n",
    "\n",
    "ways to initialize\n",
    "\n",
    "in for loops\n",
    "\n",
    "use for counting\n",
    "\n",
    "use for uniqueness\n",
    "\n",
    "merging dicts\n",
    "\n",
    "dict from list\n",
    "\n",
    "functions"
   ]
  },
  {
   "cell_type": "code",
   "execution_count": null,
   "metadata": {},
   "outputs": [],
   "source": []
  }
 ],
 "metadata": {
  "kernelspec": {
   "display_name": "Python 3",
   "language": "python",
   "name": "python3"
  },
  "language_info": {
   "codemirror_mode": {
    "name": "ipython",
    "version": 3
   },
   "file_extension": ".py",
   "mimetype": "text/x-python",
   "name": "python",
   "nbconvert_exporter": "python",
   "pygments_lexer": "ipython3",
   "version": "3.7.2"
  }
 },
 "nbformat": 4,
 "nbformat_minor": 2
}
